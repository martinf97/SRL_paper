{
 "cells": [
  {
   "cell_type": "code",
   "execution_count": 1,
   "id": "c1eea602",
   "metadata": {},
   "outputs": [],
   "source": [
    "#import necessary libraries\n",
    "using QuantumCumulants\n",
    "using OrdinaryDiffEq\n",
    "using ModelingToolkit\n",
    "using PyPlot\n",
    "using Random\n",
    "using DelimitedFiles"
   ]
  },
  {
   "cell_type": "code",
   "execution_count": 2,
   "id": "d3b2c30c",
   "metadata": {},
   "outputs": [],
   "source": [
    "M=2 #choose order of cumulant expansion\n",
    "NCl=5; #Number of atom clusters"
   ]
  },
  {
   "cell_type": "code",
   "execution_count": 3,
   "id": "c6bd0cf1",
   "metadata": {},
   "outputs": [],
   "source": [
    "#define symbolic parameters\n",
    "@cnumbers K Δ g κ Γ R ν t σv\n",
    "v=[cnumbers(Symbol(:v, i))[1] for i=1:NCl];"
   ]
  },
  {
   "cell_type": "code",
   "execution_count": 4,
   "id": "cc693017",
   "metadata": {},
   "outputs": [],
   "source": [
    "#define atom trajectories\n",
    "x0=[i/NCl for i=1:NCl]\n",
    "xt=[x0[i]+v[i]*t for i=1:NCl]\n",
    "phit=xt*2pi;"
   ]
  },
  {
   "cell_type": "code",
   "execution_count": 5,
   "id": "0b516230",
   "metadata": {},
   "outputs": [
    {
     "data": {
      "text/plain": [
       "ha_clust (generic function with 1 method)"
      ]
     },
     "execution_count": 5,
     "metadata": {},
     "output_type": "execute_result"
    }
   ],
   "source": [
    "#define Hilbert space\n",
    "hc=FockSpace(:cavity)\n",
    "ha_2l(i) = NLevelSpace(Symbol(:atom, i), 2)\n",
    "ha_clust(i) = ClusterSpace(ha_2l(i), K, M)"
   ]
  },
  {
   "cell_type": "code",
   "execution_count": 6,
   "id": "3ab95bc9",
   "metadata": {},
   "outputs": [],
   "source": [
    "ha = ⊗([ha_clust(i) for i=1:NCl]...)\n",
    "h = hc ⊗ ha;"
   ]
  },
  {
   "cell_type": "code",
   "execution_count": 7,
   "id": "61c45df8",
   "metadata": {},
   "outputs": [
    {
     "data": {
      "text/plain": [
       "σ (generic function with 1 method)"
      ]
     },
     "execution_count": 7,
     "metadata": {},
     "output_type": "execute_result"
    }
   ],
   "source": [
    "# operators\n",
    "@qnumbers a::Destroy(h)\n",
    "σ(i, j, k) = Transition(h, Symbol(:σ, k), i, j, k+1)"
   ]
  },
  {
   "cell_type": "code",
   "execution_count": 8,
   "id": "75bde7c3",
   "metadata": {},
   "outputs": [],
   "source": [
    "#define Hamiltonian\n",
    "H = Δ*a'*a + sum([g*cos(phit[i])*(a'*sum(σ(1,2,i))+a*sum(σ(2,1,i))) for i=1:NCl]);"
   ]
  },
  {
   "cell_type": "code",
   "execution_count": 9,
   "id": "b384ee69",
   "metadata": {},
   "outputs": [],
   "source": [
    "#Lindblad terms for dissipative processes\n",
    "J = [a; [σ(1,2,i) for i=1:NCl];[σ(2,1,i) for i=1:NCl];]\n",
    "rates = [κ; [Γ for i=1:NCl]; [ν for i=1:NCl];];"
   ]
  },
  {
   "cell_type": "code",
   "execution_count": 10,
   "id": "5d38eb4e",
   "metadata": {},
   "outputs": [],
   "source": [
    "# Derive equations\n",
    "ops = [a'*a] #for this operator(s) the equations will be derived\n",
    "eqs = meanfield(ops,H,J; rates=rates, iv=t, order=M);"
   ]
  },
  {
   "cell_type": "code",
   "execution_count": 11,
   "id": "366f6fd5",
   "metadata": {},
   "outputs": [
    {
     "data": {
      "text/plain": [
       "phase_invariant (generic function with 1 method)"
      ]
     },
     "execution_count": 11,
     "metadata": {},
     "output_type": "execute_result"
    }
   ],
   "source": [
    "#custom filter function (only relevant for 2nd order)\n",
    "φ(x::Average) = φ(x.arguments[1])\n",
    "φ(::Destroy) = -1\n",
    "φ(::Create) = 1\n",
    "φ(x::QTerm) = sum(map(φ, x.args_nc))\n",
    "φ(x::Transition) = x.i - x.j\n",
    "phase_invariant(x) = iszero(φ(x))"
   ]
  },
  {
   "cell_type": "code",
   "execution_count": 12,
   "id": "65333c3f",
   "metadata": {},
   "outputs": [],
   "source": [
    "#Complete equations starting with equation for ops\n",
    "#eqs_c = complete(eqs; filter_func=phase_invariant) #use this for 2nd order\n",
    "eqs_c = complete(eqs, multithread=true, filter_func=phase_invariant); #use this for mean field"
   ]
  },
  {
   "cell_type": "code",
   "execution_count": 13,
   "id": "cb4f3783",
   "metadata": {},
   "outputs": [],
   "source": [
    "#define ODE system, which can be solved numerically\n",
    "sys = ODESystem(eqs_c);"
   ]
  },
  {
   "cell_type": "code",
   "execution_count": 14,
   "id": "6bedc5fe",
   "metadata": {},
   "outputs": [
    {
     "data": {
      "text/plain": [
       "photnumbevo (generic function with 1 method)"
      ]
     },
     "execution_count": 14,
     "metadata": {},
     "output_type": "execute_result"
    }
   ],
   "source": [
    "#define function giving the solution, depending on parameters\n",
    "function photnumbevo(T_end, K_, ν_, σv_, i, γ_, g_)\n",
    "\n",
    "u0=[0.01 + 0.0*im for i=1:length(eqs_c)]\n",
    "κ_ = 1\n",
    "Δ_ = 0\n",
    "Random.seed!(i) #allows us to have the same random distribution for the same i \n",
    "v_=[randn()*σv for i=1:NCl]    \n",
    "ps=[K, Δ, g, κ, Γ, ν, σv, v...]\n",
    "p0=[K_, Δ_, g_, κ_, γ_, ν_, σv_, v_...]\n",
    "\n",
    "prob=ODEProblem(sys, u0, (0.0, T_end), ps.=>p0);\n",
    "sol = solve(prob, Tsit5(), abstol=1e-10, reltol=1e-10, saveat=0.1);\n",
    "    return sol[a'*a]\n",
    "end"
   ]
  },
  {
   "cell_type": "code",
   "execution_count": 15,
   "id": "03594dcf",
   "metadata": {},
   "outputs": [],
   "source": [
    "#calculate a result\n",
    "res=photnumbevo(400, 200000, 0.5, 0.0, 1, 0, 0.00136);"
   ]
  },
  {
   "cell_type": "code",
   "execution_count": 16,
   "id": "52de301a",
   "metadata": {},
   "outputs": [
    {
     "data": {
      "image/png": "[encoded data removed]",
      "text/plain": [
       "Figure(PyObject <Figure size 640x480 with 1 Axes>)"
      ]
     },
     "metadata": {},
     "output_type": "display_data"
    },
    {
     "data": {
      "text/plain": [
       "1-element Array{PyCall.PyObject,1}:\n",
       " PyObject <matplotlib.lines.Line2D object at 0x7fcee79e8280>"
      ]
     },
     "execution_count": 16,
     "metadata": {},
     "output_type": "execute_result"
    }
   ],
   "source": [
    "#plotting\n",
    "tarr=collect(0.0:0.1:400)\n",
    "plot(tarr, res)"
   ]
  },
  {
   "cell_type": "code",
   "execution_count": null,
   "id": "1edbe380",
   "metadata": {},
   "outputs": [],
   "source": []
  }
 ],
 "metadata": {
  "kernelspec": {
   "display_name": "Julia 1.5.2",
   "language": "julia",
   "name": "julia-1.5"
  },
  "language_info": {
   "file_extension": ".jl",
   "mimetype": "application/julia",
   "name": "julia",
   "version": "1.5.2"
  }
 },
 "nbformat": 4,
 "nbformat_minor": 5
}
