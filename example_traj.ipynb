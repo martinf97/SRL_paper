{
 "cells": [
  {
   "cell_type": "code",
   "execution_count": 1,
   "metadata": {},
   "outputs": [],
   "source": [
    "using DifferentialEquations\n",
    "using PyPlot\n",
    "using Random"
   ]
  },
  {
   "cell_type": "code",
   "execution_count": 2,
   "metadata": {},
   "outputs": [],
   "source": [
    "#Cavity with moving atoms"
   ]
  },
  {
   "cell_type": "code",
   "execution_count": 3,
   "metadata": {},
   "outputs": [
    {
     "data": {
      "text/plain": [
       "photnumbevo (generic function with 1 method)"
      ]
     },
     "execution_count": 3,
     "metadata": {},
     "output_type": "execute_result"
    }
   ],
   "source": [
    "function photnumbevo(N, K, σv, i)\n",
    "\n",
    "κ=1\n",
    "γ=0\n",
    "Δ=0\n",
    "g=2*1.36*0.001\n",
    "ν=0.5;  \n",
    "    \n",
    "   \n",
    "function G(x)\n",
    "    λ=1\n",
    "    k=(2*pi)/λ\n",
    "    return g*cos(k*x)\n",
    "end\n",
    "       \n",
    "x0=[2*pi*j/N for j=0:(N-1)]\n",
    "Random.seed!(i)\n",
    "v0=[randn()*σv for j=1:N]\n",
    "\n",
    "#the DiffEq slightly differs from the paper\n",
    "#as we use different time scales\n",
    "#and the equation for <σ^z> instead of <σ^ee>\n",
    "function cavityall(du, u, p, t)  \n",
    "    scaling=K\n",
    "    GU = 0\n",
    "    for i=1:N\n",
    "        GU+=G(x0[i]+t*v0[i])*u[i+1]\n",
    "    end\n",
    "    #<a>\n",
    "    du[1]=-κ*u[1]+  scaling * GU\n",
    "    #<σ->\n",
    "    for i=2:(N+1)\n",
    "        du[i]=(im*Δ-γ-ν)*u[i]+G(x0[i-1]+t*v0[i-1])*u[N+i]*u[1]\n",
    "    end\n",
    "    #<σ^z>\n",
    "    for i=(N+2):(2*N+1)\n",
    "        du[i]=-2*(γ+ν)*u[i]-2*G(x0[i-1-N]+t*v0[i-1-N])*(conj(u[1])*u[i-N]+conj(u[i-N])*u[1])+2*(ν-γ)\n",
    "    end\n",
    "end\n",
    "\n",
    "s0=[0.01+0.0*im for i=1:N]\n",
    "z0=[-1.0+0.0*im for i=1:N];\n",
    "u0=[0.0+0.0*im; s0; z0];\n",
    "\n",
    "tspan=(0.0, 200.0)\n",
    "prob=ODEProblem(cavityall, u0, tspan)\n",
    "sol=solve(prob, saveat=0.1);\n",
    "\n",
    "L=length(sol.t)\n",
    "expn=abs2.(sol[1, :])\n",
    "\n",
    "return expn\n",
    "end"
   ]
  },
  {
   "cell_type": "code",
   "execution_count": 4,
   "metadata": {},
   "outputs": [],
   "source": [
    "tarray=collect(0:0.1:200);"
   ]
  },
  {
   "cell_type": "code",
   "execution_count": 5,
   "metadata": {},
   "outputs": [],
   "source": [
    "rc(\"text\",  usetex=\"True\")\n",
    "rc(\"font\", family=\"serif\")\n",
    "rc(\"font\", size=38)"
   ]
  },
  {
   "cell_type": "code",
   "execution_count": 6,
   "metadata": {},
   "outputs": [],
   "source": [
    "########################################################################################################\n",
    "# (1) plots"
   ]
  },
  {
   "cell_type": "code",
   "execution_count": 7,
   "metadata": {},
   "outputs": [],
   "source": [
    "result1=photnumbevo(1000, 1000, 0.0, 1);\n",
    "result2=photnumbevo(1000, 1000, 0.2, 1);\n",
    "result3=photnumbevo(1000, 1000, 0.4, 1);"
   ]
  },
  {
   "cell_type": "code",
   "execution_count": 8,
   "metadata": {},
   "outputs": [],
   "source": [
    "result4=photnumbevo(200, 5000, 0.0, 1);\n",
    "result5=photnumbevo(200, 5000, 0.2, 1);\n",
    "result6=photnumbevo(200, 5000, 0.4, 1);"
   ]
  },
  {
   "cell_type": "code",
   "execution_count": 10,
   "metadata": {},
   "outputs": [],
   "source": [
    "#paper plot\n",
    "pygui(true)\n",
    "scale=1000;\n",
    "figure(\"example trajectories\", figsize=(24,10))\n",
    "subplot(121)\n",
    "plot(2*tarray, result4/scale, label=L\"\\sigma_\\mathrm{v}/ (\\lambda \\kappa)=0.0\")\n",
    "plot(2*tarray, result5/scale, label=L\"\\sigma_\\mathrm{v}/ (\\lambda \\kappa)=0.1\")\n",
    "plot(2*tarray, result6/scale, label=L\"\\sigma_\\mathrm{v}/ (\\lambda \\kappa)=0.2\")\n",
    "#title(\"Time evolution for 200 Atom clusters\")\n",
    "vlines(2*100, 0, 280000/scale, color=\"r\", linestyle=\"dotted\")\n",
    "arrow(200, 210,100,0; length_includes_head=true, color=\"red\", width=1, head_width=8, head_length=10)\n",
    "text(210, 220, \"quasi-steady-state\", color=\"r\")\n",
    "\n",
    "xlabel(L\"\\kappa t\")\n",
    "ylabel(L\"\\mathrm{photon\\; number}/10^3\")\n",
    "annotate(\"(a)\", xy=(0.02, 0.94), xycoords=\"axes fraction\")\n",
    "grid()\n",
    "\n",
    "subplot(122)\n",
    "plot(2*tarray, result1/scale, label=L\"\\sigma_\\mathrm{v}/ (\\lambda \\kappa)=0.0 \")\n",
    "plot(2*tarray, result2/scale, label=L\"\\sigma_\\mathrm{v}/ (\\lambda \\kappa)=0.1\")\n",
    "plot(2*tarray, result3/scale, label=L\"\\sigma_\\mathrm{v}/ (\\lambda \\kappa)=0.2\")\n",
    "vlines(2*100, 0, 280000/scale, color=\"r\", linestyle=\"dotted\")\n",
    "arrow(200, 210,100,0; length_includes_head=true, color=\"red\", width=1, head_width=8, head_length=10)\n",
    "text(210, 220, \"quasi-steady-state\", color=\"r\")\n",
    "#title(\"Time evolution for 1000 Atom clusters\")\n",
    "xlabel(L\"\\kappa t\")\n",
    "ylabel(L\"\\mathrm{photon number}/10^3\")\n",
    "\n",
    "annotate(\"(b)\", xy=(0.02, 0.94), xycoords=\"axes fraction\")\n",
    "grid()\n",
    "legend(loc=\"lower right\")\n",
    "\n",
    "tight_layout()"
   ]
  },
  {
   "cell_type": "code",
   "execution_count": null,
   "metadata": {},
   "outputs": [],
   "source": []
  }
 ],
 "metadata": {
  "kernelspec": {
   "display_name": "Julia 1.5.2",
   "language": "julia",
   "name": "julia-1.5"
  },
  "language_info": {
   "file_extension": ".jl",
   "mimetype": "application/julia",
   "name": "julia",
   "version": "1.5.2"
  }
 },
 "nbformat": 4,
 "nbformat_minor": 4
}
