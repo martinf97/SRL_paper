{
 "cells": [
  {
   "cell_type": "code",
   "execution_count": 1,
   "metadata": {},
   "outputs": [],
   "source": [
    "using PyPlot\n",
    "using DelimitedFiles"
   ]
  },
  {
   "cell_type": "code",
   "execution_count": 2,
   "metadata": {},
   "outputs": [],
   "source": [
    "scanv1=collect(0:0.01:0.1)\n",
    "scanv2=collect(0.12:0.02:0.7);"
   ]
  },
  {
   "cell_type": "code",
   "execution_count": 3,
   "metadata": {},
   "outputs": [],
   "source": [
    "scanv=vcat(scanv1, scanv2);"
   ]
  },
  {
   "cell_type": "code",
   "execution_count": 4,
   "metadata": {},
   "outputs": [],
   "source": [
    "#reading data from file and processing"
   ]
  },
  {
   "cell_type": "code",
   "execution_count": 5,
   "metadata": {},
   "outputs": [
    {
     "data": {
      "text/plain": [
       "Nreadout_graph (generic function with 1 method)"
      ]
     },
     "execution_count": 5,
     "metadata": {},
     "output_type": "execute_result"
    }
   ],
   "source": [
    "function Nreadout_te(scalesize, σv)\n",
    "    yprob=readdlm(\"comp_data/scale_test/data_scsi$scalesize.sv$σv.txt\");\n",
    "    te=sum(yprob, dims=1) \n",
    "    return transpose(te)/size(yprob, 1)\n",
    "end\n",
    "\n",
    "function Nreadout_av(scalesize, σv)\n",
    "    yprob=Nreadout_te(scalesize, σv)\n",
    "    sum=0;\n",
    "    start=1000;\n",
    "    size=length(yprob)-start+1;\n",
    "    for i=start:length(yprob)\n",
    "        sum+=yprob[i]\n",
    "    end\n",
    "    \n",
    "    return sum/size\n",
    "end \n",
    "\n",
    "function Nreadout_graph(scalesize)\n",
    "    graph=zeros(length(scanv))\n",
    "    graph=Nreadout_av.(scalesize, scanv)\n",
    "    return graph \n",
    "end "
   ]
  },
  {
   "cell_type": "code",
   "execution_count": 6,
   "metadata": {},
   "outputs": [
    {
     "data": {
      "text/plain": [
       "readout_graph (generic function with 1 method)"
      ]
     },
     "execution_count": 6,
     "metadata": {},
     "output_type": "execute_result"
    }
   ],
   "source": [
    "function readout_te(T_end, K, NCl, ν, σv, g)\n",
    "    σv=0.5*σv\n",
    "    yprob=readdlm(\"comp_data/inhom/qmixed_Tend$T_end.K$K.NCl$NCl.nu$ν.sv$σv.g$g.txt\");\n",
    "    te=sum(yprob, dims=1) \n",
    "    return transpose(te)/size(yprob, 1) \n",
    "end\n",
    "\n",
    "function readout_av(T_end, K, NCl, ν, σv, g)\n",
    "    yprob=readout_te(T_end, K, NCl, ν, σv, g)\n",
    "    #average over each trajectory\n",
    "    sum=0;\n",
    "    start=2000; #at this time the quasi-steady-state is achieved\n",
    "    size=length(yprob)-start+1;\n",
    "    for i=start:length(yprob)\n",
    "        sum+=yprob[i]\n",
    "    end\n",
    "    return sum/size\n",
    "end \n",
    "\n",
    "function readout_graph(T_end, K, NCl, ν, g)\n",
    "    graph=zeros(length(scanv))\n",
    "    graph=readout_av.(T_end, K, NCl, ν, scanv, g)\n",
    "    return graph \n",
    "end"
   ]
  },
  {
   "cell_type": "code",
   "execution_count": 7,
   "metadata": {},
   "outputs": [
    {
     "data": {
      "text/plain": [
       "readout_graph2_new (generic function with 1 method)"
      ]
     },
     "execution_count": 7,
     "metadata": {},
     "output_type": "execute_result"
    }
   ],
   "source": [
    "function readout_te2_new(T_end, K, NCl, ν, σv, g)\n",
    "    σv=0.5*σv;\n",
    "    yprob=readdlm(\"comp_data/2ndorder_new/2ndorder_Tend$T_end.K$K.NCl$NCl.nu$ν.sv$σv.g$g.txt\");\n",
    "    te=sum(yprob, dims=1) \n",
    "    return transpose(te)/size(yprob, 1) \n",
    "end\n",
    "\n",
    "function readout_av2_new(T_end, K, NCl, ν, σv, g)\n",
    "    yprob=readout_te2_new(T_end, K, NCl, ν, σv, g)\n",
    "    #average over each trajectory\n",
    "    sum=0;\n",
    "    start=2000;\n",
    "    size=length(yprob)-start+1;\n",
    "    for i=start:length(yprob)\n",
    "        sum+=yprob[i]\n",
    "    end\n",
    "    return sum/size\n",
    "end\n",
    "\n",
    "function readout_graph2_new(T_end, K, NCl, ν, g)\n",
    "    graph=zeros(length(scanv))\n",
    "    graph=readout_av2_new.(T_end, K, NCl, ν, scanv, g)\n",
    "    return graph\n",
    "end"
   ]
  },
  {
   "cell_type": "code",
   "execution_count": 8,
   "metadata": {},
   "outputs": [],
   "source": [
    "rc(\"text\",  usetex=\"True\")\n",
    "rc(\"font\", family=\"serif\")\n",
    "rc(\"font\", size=18)"
   ]
  },
  {
   "cell_type": "code",
   "execution_count": 9,
   "metadata": {},
   "outputs": [],
   "source": [
    "Ng2500l=Nreadout_graph(40000); #first order\n",
    "Ng2000l=Nreadout_graph(32000);\n",
    "Ng1500l=Nreadout_graph(24000);\n",
    "Ng1000l=Nreadout_graph(16000);\n",
    "Ng500l=Nreadout_graph(8000);"
   ]
  },
  {
   "cell_type": "code",
   "execution_count": 10,
   "metadata": {},
   "outputs": [],
   "source": [
    "g2500l=readout_graph(400, 40000, 25, 0.5, 0.00136); #mixed order\n",
    "g2000l=readout_graph(400, 32000, 25, 0.5, 0.00136);\n",
    "g1500l=readout_graph(400, 24000, 25, 0.5, 0.00136);\n",
    "g1000l=readout_graph(400, 16000, 25, 0.5, 0.00136);\n",
    "g500l=readout_graph(400, 8000, 25, 0.5, 0.00136);"
   ]
  },
  {
   "cell_type": "code",
   "execution_count": 11,
   "metadata": {},
   "outputs": [],
   "source": [
    "g2n_2500=readout_graph2_new(400, 2500*16, 25, 0.5, 0.00136); #second order\n",
    "g2n_2000=readout_graph2_new(400, 2000*16, 25, 0.5, 0.00136);\n",
    "g2n_1500=readout_graph2_new(400, 1500*16, 25, 0.5, 0.00136);\n",
    "g2n_1000=readout_graph2_new(400, 1000*16, 25, 0.5, 0.00136);\n",
    "g2n_500=readout_graph2_new(400, 500*16, 25, 0.5, 0.00136);"
   ]
  },
  {
   "cell_type": "code",
   "execution_count": 12,
   "metadata": {},
   "outputs": [],
   "source": [
    "##########################################################################################################\n",
    "# (6) plots"
   ]
  },
  {
   "cell_type": "code",
   "execution_count": 13,
   "metadata": {},
   "outputs": [],
   "source": [
    "xprob=readdlm(\"comp_data/data_ncl_comparison.txt\")\n",
    "graph1000=xprob[1,:]\n",
    "graph2500=xprob[2,:]\n",
    "graph5000=xprob[3,:]\n",
    "graph20000=xprob[4,:];"
   ]
  },
  {
   "cell_type": "code",
   "execution_count": 14,
   "metadata": {},
   "outputs": [],
   "source": [
    "#paper plot\n",
    "pygui(true)\n",
    "close(\"saving comp time\"); figure(\"saving comp time\", figsize=(12, 5))\n",
    "subplot(121)\n",
    "scale=1000;\n",
    "\n",
    "plot(0.5*scanv, Ng2500l/scale, color=\"b\", label=L\"N=1 \\cdot 10^6\")\n",
    "plot(0.5*scanv, Ng2000l/scale, color=\"y\", label=L\"N=8 \\cdot 10^5\")\n",
    "plot(0.5*scanv, Ng1500l/scale, color=\"g\", label=L\"N=6 \\cdot 10^5\")\n",
    "plot(0.5*scanv, Ng1000l/scale, color=\"r\", label=L\"N=4 \\cdot 10^5\")\n",
    "plot(0.5*scanv, Ng500l/scale, color=\"m\", label=L\"N=2 \\cdot 10^5\")\n",
    "\n",
    "plot(0.5*scanv, g2500l/scale, color=\"b\", linestyle=\"dotted\")\n",
    "plot(0.5*scanv, g2000l/scale, color=\"y\", linestyle=\"dotted\")\n",
    "plot(0.5*scanv, g1500l/scale, color=\"g\", linestyle=\"dotted\")\n",
    "plot(0.5*scanv, g1000l/scale, color=\"r\", linestyle=\"dotted\")\n",
    "plot(0.5*scanv, g500l/scale, color=\"m\", linestyle=\"dotted\")\n",
    "\n",
    "plot(0.5*scanv, g2n_2500/scale, color=\"b\", linestyle=\"dashed\")\n",
    "plot(0.5*scanv, g2n_2000/scale, color=\"y\", linestyle=\"dashed\")\n",
    "plot(0.5*scanv, g2n_1500/scale, color=\"g\", linestyle=\"dashed\")\n",
    "plot(0.5*scanv, g2n_1000/scale, color=\"r\", linestyle=\"dashed\")\n",
    "plot(0.5*scanv, g2n_500/scale, color=\"m\", linestyle=\"dashed\")\n",
    "\n",
    "#title(L\"$γ=10^{-8}, Δ=0, g=1.36 \\cdot 10^{-3}, ν=0.5, κ=1$, 400 clusters\")\n",
    "annotate(\"(a)\", xy=(0.01, 0.06), xycoords=\"axes fraction\")\n",
    "xlabel(L\"\\sigma_\\mathrm{v}/(\\lambda \\kappa)\")\n",
    "ylabel(L\"\\mathrm{photon\\;number} /10^3\")\n",
    "legend()\n",
    "grid()\n",
    "\n",
    "subplot(122)\n",
    "vscale=1000;\n",
    "plot(0.5*scanv, graph1000/scale, label=\"1000 clusters\")\n",
    "plot(0.5*scanv, graph2500/scale, label=\"400 clusters\")\n",
    "plot(0.5*scanv, graph5000/scale, label=\"200 clusters\")\n",
    "plot(0.5*scanv, graph20000/scale, label=\"50 clusters\")\n",
    "\n",
    "#title(L\"$γ=10^{-8}, Δ=0, g=1.36 \\cdot 10^{-3}, ν=0.5, κ=1$, Total atom number: $10^6$\")\n",
    "annotate(\"(b)\", xy=(0.01, 0.06), xycoords=\"axes fraction\")\n",
    "xlabel(L\"\\sigma_\\mathrm{v}/(\\lambda \\kappa)\")\n",
    "ylabel(L\"\\mathrm{photon\\; number}/10^3\")\n",
    "legend()\n",
    "grid()"
   ]
  },
  {
   "cell_type": "code",
   "execution_count": null,
   "metadata": {},
   "outputs": [],
   "source": []
  }
 ],
 "metadata": {
  "kernelspec": {
   "display_name": "Julia 1.5.2",
   "language": "julia",
   "name": "julia-1.5"
  },
  "language_info": {
   "file_extension": ".jl",
   "mimetype": "application/julia",
   "name": "julia",
   "version": "1.5.2"
  }
 },
 "nbformat": 4,
 "nbformat_minor": 4
}
