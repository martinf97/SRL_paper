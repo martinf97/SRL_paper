{
 "cells": [
  {
   "cell_type": "code",
   "execution_count": 26,
   "metadata": {},
   "outputs": [],
   "source": [
    "using DifferentialEquations\n",
    "using PyPlot\n",
    "using DelimitedFiles\n",
    "using Statistics\n",
    "using Random\n",
    "using Dates"
   ]
  },
  {
   "cell_type": "code",
   "execution_count": 27,
   "metadata": {},
   "outputs": [
    {
     "data": {
      "text/plain": [
       "findroot (generic function with 1 method)"
      ]
     },
     "execution_count": 27,
     "metadata": {},
     "output_type": "execute_result"
    }
   ],
   "source": [
    "function findroot(x, f, c)\n",
    "    L=length(x)\n",
    "    i=1\n",
    "    r=0\n",
    "    for i=1:L\n",
    "        if f[i]<c\n",
    "        r=(f[i-1]-c)*(x[i]-x[i-1])/(f[i-1]-f[i])+x[i-1];break\n",
    "        end\n",
    "    end\n",
    "    return r\n",
    "end"
   ]
  },
  {
   "cell_type": "code",
   "execution_count": 28,
   "metadata": {},
   "outputs": [
    {
     "data": {
      "text/plain": [
       "1"
      ]
     },
     "execution_count": 28,
     "metadata": {},
     "output_type": "execute_result"
    }
   ],
   "source": [
    "Threads.nthreads()"
   ]
  },
  {
   "cell_type": "code",
   "execution_count": 29,
   "metadata": {},
   "outputs": [],
   "source": [
    "#Cavity with moving atoms"
   ]
  },
  {
   "cell_type": "code",
   "execution_count": 30,
   "metadata": {},
   "outputs": [],
   "source": [
    "# κ=1\n",
    "# γ=1.064*0.00000001\n",
    "# Δ=0\n",
    "# N=200\n",
    "# g=sqrt(0.0015/1000)    #6.2*0.000001\n",
    "# ν=0.5;"
   ]
  },
  {
   "cell_type": "code",
   "execution_count": 52,
   "metadata": {},
   "outputs": [
    {
     "data": {
      "text/plain": [
       "photnumbevo (generic function with 2 methods)"
      ]
     },
     "execution_count": 52,
     "metadata": {},
     "output_type": "execute_result"
    }
   ],
   "source": [
    "function photnumbevo(scaling, N, σv, i, Tend=200)\n",
    "\n",
    "κ=1\n",
    "γ=1.064*0.00000001\n",
    "Δ=0\n",
    "g=sqrt(0.0015/200)    #6.2*0.000001\n",
    "ν=0.5;  \n",
    "  \n",
    "#N=400    \n",
    "   \n",
    "function G(x)\n",
    "    λ=1\n",
    "    k=(2*pi)/λ\n",
    "    return g*cos(k*x)\n",
    "end\n",
    "    \n",
    "function customsum(u, a, b)\n",
    "     c=0\n",
    "     for i=a:b\n",
    "         c+=u[i]\n",
    "     end\n",
    "     return c\n",
    "end\n",
    "\n",
    "#Random.seed!(i)\n",
    "#x0=[rand()*2*pi for j=1:N]\n",
    "#x0=[0 for j=0:(N-1)]    \n",
    "x0=[j/N for j=0:(N-1)]\n",
    "Random.seed!(i)\n",
    "v0=[randn()*σv for j=1:N]\n",
    "\n",
    "function cavityall(du, u, p, t)  \n",
    "    \n",
    "   # scaling=1000\n",
    "    GU = 0\n",
    "    for i=1:N\n",
    "        GU+=G(x0[i]+t*v0[i])*u[i+1]\n",
    "    end\n",
    "                                 \n",
    "  du[1]=-κ*u[1]+  scaling * GU\n",
    "  for i in eachindex(u)\n",
    "    if 1<i<=1+N\n",
    "    du[i]=(im*Δ-γ-ν)*u[i]+G(x0[i-1]+t*v0[i-1])*u[N+i]*u[1]\n",
    "    end\n",
    "            \n",
    "    if 1+N<i \n",
    "    du[i]=-2*(γ+ν)*u[i]-2*G(x0[i-1-N]+t*v0[i-1-N])*(conj(u[1])*u[i-N]+conj(u[i-N])*u[1])+2*(ν-γ)\n",
    "    end\n",
    "  end\n",
    "end\n",
    "\n",
    "s0=[0.01+0.0*im for i=1:N]\n",
    "z0=[-1.0+0.0*im for i=1:N];\n",
    "u0=[0.0+0.0*im; s0; z0];\n",
    "\n",
    "tspan=(0.0, Tend)\n",
    "prob=ODEProblem(cavityall, u0, tspan)\n",
    "sol=solve(prob, saveat=0.1);\n",
    "\n",
    "L=length(sol.t)\n",
    "expn=abs2.(sol[1, :])\n",
    "expz=[customsum(real(sol[:, i]), N+2, 2N+1)/N for i=1:L];\n",
    "    \n",
    "#figure(1)\n",
    "#clf()\n",
    "#plot(sol.t, expn, label=\"σv=$σv\")\n",
    "#title(\"γ=$γ, Δ=$Δ, g=$g, N=$N, ν=$ν\")\n",
    "#xlabel(L\"\\ κ ⋅ t \")\n",
    "#ylabel(\"Number of Photons\")\n",
    "#legend()\n",
    "#grid()\n",
    "    \n",
    "#figure(2)\n",
    "#clf()\n",
    "#plot(sol.t, expz, label=\"σv=$σv\")\n",
    "#title(\"γ=$γ, Δ=$Δ, g=$g, N=$N, ν=$ν\")\n",
    "#xlabel(\"\\$ κ ⋅ t \\$\")\n",
    "#ylabel(L\" \\langle σ_{z} \\rangle \")\n",
    "#legend()\n",
    "#grid()\n",
    "\n",
    "#S=1000\n",
    "#expnav=0\n",
    "#    for i=S:L \n",
    "#        expnav+=expn[i]\n",
    "#    end\n",
    "#    expnav=expnav/(L-S+1)\n",
    "\n",
    "#expzav=0\n",
    "#    for i=S:L \n",
    "#        expzav+=expz[i]\n",
    "#    end\n",
    "#    expzav=expzav/(L-S+1)\n",
    "       \n",
    "\n",
    "# open(\"probe.txt\", \"a\") do f\n",
    "#    for i in 1:20\n",
    "#        n1, n2, n3, n4=rand()\n",
    "#        write(f, \"$n1, $n2, $n3, $n4 \\n\")\n",
    "#    end\n",
    "#end   \n",
    "    \n",
    "    \n",
    "#return expnav, expzav, L    \n",
    "return expn\n",
    "end"
   ]
  },
  {
   "cell_type": "code",
   "execution_count": 53,
   "metadata": {},
   "outputs": [],
   "source": [
    "# κ=1\n",
    "# γ=1.064*0.00000001\n",
    "# Δ=0\n",
    "# N=200\n",
    "# g=sqrt(0.0015/200)    #6.2*0.000001\n",
    "# ν=0.5;"
   ]
  },
  {
   "cell_type": "code",
   "execution_count": 54,
   "metadata": {},
   "outputs": [
    {
     "data": {
      "text/plain": [
       "20001-element Array{Float64,1}:\n",
       "      0.0\n",
       "      3.4817391766158176e-32\n",
       "      3.361150073427247e-32\n",
       "      9.971808008961828e-32\n",
       "      1.4206685966369214e-31\n",
       "      2.7622922458102226e-31\n",
       "      3.6542553758996365e-31\n",
       "      4.566791736037061e-31\n",
       "      5.395521587251425e-31\n",
       "      5.789351715474765e-31\n",
       "      6.736375580042493e-31\n",
       "      7.369393040983409e-31\n",
       "      1.1616242727001577e-30\n",
       "      ⋮\n",
       " 176581.2950313604\n",
       " 176581.29503124228\n",
       " 176581.29503120782\n",
       " 176581.29503120677\n",
       " 176581.29503123445\n",
       " 176581.29503128547\n",
       " 176581.295031354\n",
       " 176581.2950314339\n",
       " 176581.29503151917\n",
       " 176581.2950316046\n",
       " 176581.29503168564\n",
       " 176581.2950317586"
      ]
     },
     "execution_count": 54,
     "metadata": {},
     "output_type": "execute_result"
    }
   ],
   "source": [
    "res=photnumbevo(20000, 50, 0.0, 50, 2000)"
   ]
  },
  {
   "cell_type": "code",
   "execution_count": 33,
   "metadata": {},
   "outputs": [],
   "source": [
    "tarray=collect(0:0.1:200);"
   ]
  },
  {
   "cell_type": "code",
   "execution_count": 9,
   "metadata": {},
   "outputs": [],
   "source": [
    "result4=photnumbevo(1000, 1000, 0.1, 1);\n",
    "result5=photnumbevo(2500, 400, 0.1, 1);\n",
    "result6=photnumbevo(5000, 200, 0.1, 1);\n",
    "result11=photnumbevo(20000, 50, 0.1, 1);"
   ]
  },
  {
   "cell_type": "code",
   "execution_count": 10,
   "metadata": {},
   "outputs": [],
   "source": [
    "result1=photnumbevo(1000, 1000, 0.4, 1);\n",
    "result2=photnumbevo(2500, 400, 0.4, 1);\n",
    "result3=photnumbevo(5000, 200, 0.4, 1);\n",
    "result12=photnumbevo(20000, 50, 0.4, 1);"
   ]
  },
  {
   "cell_type": "code",
   "execution_count": 75,
   "metadata": {},
   "outputs": [],
   "source": [
    "rc(\"text\",  usetex=\"True\")\n",
    "rc(\"font\", family=\"serif\")\n",
    "rc(\"font\", size=15)"
   ]
  },
  {
   "cell_type": "code",
   "execution_count": 76,
   "metadata": {},
   "outputs": [],
   "source": [
    "#############################################################################################################\n",
    "# (3a) plots"
   ]
  },
  {
   "cell_type": "code",
   "execution_count": 77,
   "metadata": {},
   "outputs": [
    {
     "data": {
      "text/plain": [
       "PyObject <matplotlib.legend.Legend object at 0x7ffab01010a0>"
      ]
     },
     "execution_count": 77,
     "metadata": {},
     "output_type": "execute_result"
    }
   ],
   "source": [
    "pygui(true)\n",
    "figure(1)\n",
    "scale=1000;\n",
    "plot(2*tarray, result4/scale, label=L\"\\mathrm{1000\\; clusters,}\\; \\sigma_\\mathrm{v}/(\\lambda \\kappa)=0.05\")\n",
    "plot(2*tarray, result5/scale, label=L\"\\mathrm{400\\; clusters,}\\; \\sigma_\\mathrm{v}/(\\lambda \\kappa)=0.05\")\n",
    "plot(2*tarray, result11/scale, label=L\"\\mathrm{50\\; clusters,}\\; \\sigma_\\mathrm{v}/(\\lambda \\kappa)=0.05\")\n",
    "\n",
    "plot(2*tarray, result1/scale, label=L\"\\mathrm{1000\\; clusters,}\\; \\sigma_\\mathrm{v}/(\\lambda \\kappa)=0.2\")\n",
    "plot(2*tarray, result2/scale, label=L\"\\mathrm{400\\; clusters,}\\; \\sigma_\\mathrm{v}/(\\lambda \\kappa)=0.2\")\n",
    "plot(2*tarray, result12/scale, label=L\"\\mathrm{50\\; clusters,}\\; \\sigma_\\mathrm{v}/(\\lambda \\kappa)=0.2\")\n",
    "\n",
    "\n",
    "#vlines(100, 0, 280000, color=\"r\", linestyle=\"dotted\")\n",
    "#title(L\"$γ=10^{-8}, Δ=0, g=1.36 \\cdot 10^{-3}, ν=0.5, κ=1$, Total atom number: $10^6$\")\n",
    "annotate(\"(a)\", xy=(0.01, 0.06), xycoords=\"axes fraction\")\n",
    "xlabel(L\"\\kappa t\")\n",
    "ylabel(L\"\\mathrm{photon\\; number}/10^3\")\n",
    "#title(\"1000_atoms\")\n",
    "grid()\n",
    "legend(loc=\"upper right\")\n",
    "#save clustersize1_up.pdf"
   ]
  },
  {
   "cell_type": "code",
   "execution_count": 14,
   "metadata": {},
   "outputs": [],
   "source": [
    "#############################################################################################################"
   ]
  },
  {
   "cell_type": "code",
   "execution_count": 15,
   "metadata": {},
   "outputs": [],
   "source": [
    "#annotate(\"quasi-steady-state\",\n",
    "#\txy=[0.51;0.8],\n",
    "#\txycoords=\"axes fraction\",\n",
    "#\txytext=[-10,10],\n",
    "#\ttextcoords=\"offset points\",\n",
    "#\tfontsize=10.0,\n",
    "#\tha=\"right\",\n",
    "#\tva=\"bottom\")"
   ]
  },
  {
   "cell_type": "code",
   "execution_count": 16,
   "metadata": {},
   "outputs": [],
   "source": [
    "result1=photnumbevo(5000, 200, 0.0, 1);\n",
    "result2=photnumbevo(5000, 200, 0.04, 1);\n",
    "result3=photnumbevo(5000, 200, 0.08, 1);"
   ]
  },
  {
   "cell_type": "code",
   "execution_count": 17,
   "metadata": {},
   "outputs": [
    {
     "name": "stderr",
     "output_type": "stream",
     "text": [
      "Traceback (most recent call last):\n",
      "  File \"/home/martinf/anaconda3/lib/python3.8/site-packages/matplotlib/texmanager.py\", line 304, in _run_checked_subprocess\n",
      "    report = subprocess.check_output(command,\n",
      "  File \"/home/martinf/anaconda3/lib/python3.8/subprocess.py\", line 411, in check_output\n",
      "    return run(*popenargs, stdout=PIPE, timeout=timeout, check=True,\n",
      "  File \"/home/martinf/anaconda3/lib/python3.8/subprocess.py\", line 512, in run\n",
      "    raise CalledProcessError(retcode, process.args,\n",
      "subprocess.CalledProcessError: Command '['latex', '-interaction=nonstopmode', '--halt-on-error', '/home/martinf/.cache/matplotlib/tex.cache/4b9444c34beefa672c29229bbbc6f8b2.tex']' returned non-zero exit status 1.\n",
      "\n",
      "The above exception was the direct cause of the following exception:\n",
      "\n",
      "Traceback (most recent call last):\n",
      "  File \"/home/martinf/anaconda3/lib/python3.8/site-packages/matplotlib/backends/backend_qt5.py\", line 496, in _draw_idle\n",
      "    self.draw()\n",
      "  File \"/home/martinf/anaconda3/lib/python3.8/site-packages/matplotlib/backends/backend_agg.py\", line 393, in draw\n",
      "    self.figure.draw(self.renderer)\n",
      "  File \"/home/martinf/anaconda3/lib/python3.8/site-packages/matplotlib/artist.py\", line 38, in draw_wrapper\n",
      "    return draw(artist, renderer, *args, **kwargs)\n",
      "  File \"/home/martinf/anaconda3/lib/python3.8/site-packages/matplotlib/figure.py\", line 1735, in draw\n",
      "    mimage._draw_list_compositing_images(\n",
      "  File \"/home/martinf/anaconda3/lib/python3.8/site-packages/matplotlib/image.py\", line 137, in _draw_list_compositing_images\n",
      "    a.draw(renderer)\n",
      "  File \"/home/martinf/anaconda3/lib/python3.8/site-packages/matplotlib/artist.py\", line 38, in draw_wrapper\n",
      "    return draw(artist, renderer, *args, **kwargs)\n",
      "  File \"/home/martinf/anaconda3/lib/python3.8/site-packages/matplotlib/axes/_base.py\", line 2630, in draw\n",
      "    mimage._draw_list_compositing_images(renderer, self, artists)\n",
      "  File \"/home/martinf/anaconda3/lib/python3.8/site-packages/matplotlib/image.py\", line 137, in _draw_list_compositing_images\n",
      "    a.draw(renderer)\n",
      "  File \"/home/martinf/anaconda3/lib/python3.8/site-packages/matplotlib/artist.py\", line 38, in draw_wrapper\n",
      "    return draw(artist, renderer, *args, **kwargs)\n",
      "  File \"/home/martinf/anaconda3/lib/python3.8/site-packages/matplotlib/axis.py\", line 1241, in draw\n",
      "    self.label.draw(renderer)\n",
      "  File \"/home/martinf/anaconda3/lib/python3.8/site-packages/matplotlib/artist.py\", line 38, in draw_wrapper\n",
      "    return draw(artist, renderer, *args, **kwargs)\n",
      "  File \"/home/martinf/anaconda3/lib/python3.8/site-packages/matplotlib/text.py\", line 685, in draw\n",
      "    bbox, info, descent = textobj._get_layout(renderer)\n",
      "  File \"/home/martinf/anaconda3/lib/python3.8/site-packages/matplotlib/text.py\", line 299, in _get_layout\n",
      "    w, h, d = renderer.get_text_width_height_descent(\n",
      "  File \"/home/martinf/anaconda3/lib/python3.8/site-packages/matplotlib/backends/backend_agg.py\", line 203, in get_text_width_height_descent\n",
      "    w, h, d = texmanager.get_text_width_height_descent(\n",
      "  File \"/home/martinf/anaconda3/lib/python3.8/site-packages/matplotlib/texmanager.py\", line 458, in get_text_width_height_descent\n",
      "    dvifile = self.make_dvi(tex, fontsize)\n",
      "  File \"/home/martinf/anaconda3/lib/python3.8/site-packages/matplotlib/texmanager.py\", line 338, in make_dvi\n",
      "    self._run_checked_subprocess(\n",
      "  File \"/home/martinf/anaconda3/lib/python3.8/site-packages/matplotlib/texmanager.py\", line 312, in _run_checked_subprocess\n",
      "    raise RuntimeError(\n",
      "RuntimeError: latex was not able to process the following string:\n",
      "b'time \\\\u03c4'\n",
      "\n",
      "Here is the full report generated by latex:\n",
      "This is pdfTeX, Version 3.14159265-2.6-1.40.20 (TeX Live 2019/Debian) (preloaded format=latex)\n",
      " restricted \\write18 enabled.\n",
      "entering extended mode\n",
      "\n",
      "(/home/martinf/.cache/matplotlib/tex.cache/4b9444c34beefa672c29229bbbc6f8b2.tex\n",
      "LaTeX2e <2020-02-02> patch level 2\n",
      "L3 programming layer <2020-02-14>\n",
      "(/usr/share/texlive/texmf-dist/tex/latex/base/article.cls\n",
      "Document Class: article 2019/12/20 v1.4l Standard LaTeX document class\n",
      "(/usr/share/texlive/texmf-dist/tex/latex/base/size10.clo))\n",
      "(/usr/share/texlive/texmf-dist/tex/latex/type1cm/type1cm.sty)\n",
      "(/usr/share/texmf/tex/latex/cm-super/type1ec.sty\n",
      "(/usr/share/texlive/texmf-dist/tex/latex/base/t1cmr.fd))\n",
      "(/usr/share/texlive/texmf-dist/tex/latex/base/textcomp.sty)\n",
      "(/usr/share/texlive/texmf-dist/tex/latex/base/inputenc.sty)\n",
      "(/usr/share/texlive/texmf-dist/tex/latex/geometry/geometry.sty\n",
      "(/usr/share/texlive/texmf-dist/tex/latex/graphics/keyval.sty)\n",
      "(/usr/share/texlive/texmf-dist/tex/generic/iftex/ifvtex.sty\n",
      "(/usr/share/texlive/texmf-dist/tex/generic/iftex/iftex.sty))\n",
      "\n",
      "Package geometry Warning: Over-specification in `h'-direction.\n",
      "    `width' (5058.9pt) is ignored.\n",
      "\n",
      "\n",
      "Package geometry Warning: Over-specification in `v'-direction.\n",
      "    `height' (5058.9pt) is ignored.\n",
      "\n",
      ") (/usr/share/texlive/texmf-dist/tex/latex/l3backend/l3backend-dvips.def)\n",
      "No file 4b9444c34beefa672c29229bbbc6f8b2.aux.\n",
      "*geometry* driver: auto-detecting\n",
      "*geometry* detected driver: dvips\n",
      "\n",
      "! Package inputenc Error: Unicode character τ (U+03C4)\n",
      "(inputenc)                not set up for use with LaTeX.\n",
      "\n",
      "See the inputenc package documentation for explanation.\n",
      "Type  H <return>  for immediate help.\n",
      " ...                                              \n",
      "                                                  \n",
      "l.19 {\\rmfamily time τ\n",
      "                       }\n",
      "No pages of output.\n",
      "Transcript written on 4b9444c34beefa672c29229bbbc6f8b2.log.\n",
      "\n",
      "\n",
      "\n",
      "Traceback (most recent call last):\n",
      "  File \"/home/martinf/anaconda3/lib/python3.8/site-packages/matplotlib/texmanager.py\", line 304, in _run_checked_subprocess\n",
      "    report = subprocess.check_output(command,\n",
      "  File \"/home/martinf/anaconda3/lib/python3.8/subprocess.py\", line 411, in check_output\n",
      "    return run(*popenargs, stdout=PIPE, timeout=timeout, check=True,\n",
      "  File \"/home/martinf/anaconda3/lib/python3.8/subprocess.py\", line 512, in run\n",
      "    raise CalledProcessError(retcode, process.args,\n",
      "subprocess.CalledProcessError: Command '['latex', '-interaction=nonstopmode', '--halt-on-error', '/home/martinf/.cache/matplotlib/tex.cache/4b9444c34beefa672c29229bbbc6f8b2.tex']' returned non-zero exit status 1.\n",
      "\n",
      "The above exception was the direct cause of the following exception:\n",
      "\n",
      "Traceback (most recent call last):\n",
      "  File \"/home/martinf/anaconda3/lib/python3.8/site-packages/matplotlib/backends/backend_qt5.py\", line 496, in _draw_idle\n",
      "    self.draw()\n",
      "  File \"/home/martinf/anaconda3/lib/python3.8/site-packages/matplotlib/backends/backend_agg.py\", line 393, in draw\n",
      "    self.figure.draw(self.renderer)\n",
      "  File \"/home/martinf/anaconda3/lib/python3.8/site-packages/matplotlib/artist.py\", line 38, in draw_wrapper\n",
      "    return draw(artist, renderer, *args, **kwargs)\n",
      "  File \"/home/martinf/anaconda3/lib/python3.8/site-packages/matplotlib/figure.py\", line 1735, in draw\n",
      "    mimage._draw_list_compositing_images(\n",
      "  File \"/home/martinf/anaconda3/lib/python3.8/site-packages/matplotlib/image.py\", line 137, in _draw_list_compositing_images\n",
      "    a.draw(renderer)\n",
      "  File \"/home/martinf/anaconda3/lib/python3.8/site-packages/matplotlib/artist.py\", line 38, in draw_wrapper\n",
      "    return draw(artist, renderer, *args, **kwargs)\n",
      "  File \"/home/martinf/anaconda3/lib/python3.8/site-packages/matplotlib/axes/_base.py\", line 2630, in draw\n",
      "    mimage._draw_list_compositing_images(renderer, self, artists)\n",
      "  File \"/home/martinf/anaconda3/lib/python3.8/site-packages/matplotlib/image.py\", line 137, in _draw_list_compositing_images\n",
      "    a.draw(renderer)\n",
      "  File \"/home/martinf/anaconda3/lib/python3.8/site-packages/matplotlib/artist.py\", line 38, in draw_wrapper\n",
      "    return draw(artist, renderer, *args, **kwargs)\n",
      "  File \"/home/martinf/anaconda3/lib/python3.8/site-packages/matplotlib/axis.py\", line 1241, in draw\n",
      "    self.label.draw(renderer)\n",
      "  File \"/home/martinf/anaconda3/lib/python3.8/site-packages/matplotlib/artist.py\", line 38, in draw_wrapper\n",
      "    return draw(artist, renderer, *args, **kwargs)\n",
      "  File \"/home/martinf/anaconda3/lib/python3.8/site-packages/matplotlib/text.py\", line 685, in draw\n",
      "    bbox, info, descent = textobj._get_layout(renderer)\n",
      "  File \"/home/martinf/anaconda3/lib/python3.8/site-packages/matplotlib/text.py\", line 299, in _get_layout\n",
      "    w, h, d = renderer.get_text_width_height_descent(\n"
     ]
    },
    {
     "data": {
      "text/plain": [
       "PyObject <matplotlib.legend.Legend object at 0x7f7033253e80>"
      ]
     },
     "execution_count": 17,
     "metadata": {},
     "output_type": "execute_result"
    }
   ],
   "source": [
    "pygui(true)\n",
    "figure(1)\n",
    "plot(tarray, result1, label=\"σv=0.0\")\n",
    "plot(tarray, result2, label=\"σv=0.04\")\n",
    "plot(tarray, result3, label=\"σv=0.08\")\n",
    "title(\"Time evolution for N=200 Atom clusters\")\n",
    "vlines(100, 0, 12500, color=\"r\", linestyle=\"dotted\")\n",
    "xlabel(\"time τ\")\n",
    "ylabel(\"photon number\")\n",
    "#title(\"1000_atoms\")\n",
    "grid()\n",
    "legend()"
   ]
  },
  {
   "cell_type": "code",
   "execution_count": 18,
   "metadata": {},
   "outputs": [
    {
     "ename": "LoadError",
     "evalue": "\u001b[91mUndefVarError: readout_te_ex not defined\u001b[39m",
     "output_type": "error",
     "traceback": [
      "\u001b[91mUndefVarError: readout_te_ex not defined\u001b[39m",
      "",
      "Stacktrace:",
      " [1] top-level scope at In[18]:1",
      " [2] include_string(::Function, ::Module, ::String, ::String) at ./loading.jl:1091"
     ]
    }
   ],
   "source": [
    "plot(tarray, readout_te_ex(200, 0.0 , 1), label=\"fix\")\n",
    "plot(tarray, readout_te_ex(200, 0.01, 1))\n",
    "plot(tarray, readout_te_ex(200, 0.02, 1), label=\"loose\")\n",
    "legend()"
   ]
  },
  {
   "cell_type": "code",
   "execution_count": 19,
   "metadata": {},
   "outputs": [
    {
     "data": {
      "text/plain": [
       "calcdata (generic function with 1 method)"
      ]
     },
     "execution_count": 19,
     "metadata": {},
     "output_type": "execute_result"
    }
   ],
   "source": [
    "function calcdata(scalesize, N, σv, samplesize)\n",
    "\n",
    "#κ=1\n",
    "#γ=1.064*0.00000001\n",
    "#Δ=0\n",
    "#N=1000\n",
    "#g=sqrt(0.0015/N)   #6.2*0.000001  \n",
    "#ν=0.5;\n",
    "    \n",
    "    \n",
    "#κ=1\n",
    "#γ=0\n",
    "#Δ=0\n",
    "#g=sqrt(2.5/N)\n",
    "#ν=0.5;\n",
    "    \n",
    "#scanv=collect(0.15:0.005:0.2)\n",
    "\n",
    "open(\"data_scsi$scalesize.sv$σv.txt\", \"a\") do io\n",
    "        ini=0\n",
    "        #ini=get_samplesize(N, σv)\n",
    "        for j=(ini+1):(ini+samplesize)   \n",
    "        writedlm(io, [photnumbevo.(scalesize, N, σv, j)])\n",
    "        end\n",
    "    end\n",
    "end"
   ]
  },
  {
   "cell_type": "code",
   "execution_count": 20,
   "metadata": {},
   "outputs": [
    {
     "data": {
      "text/plain": [
       "easyaver (generic function with 1 method)"
      ]
     },
     "execution_count": 20,
     "metadata": {},
     "output_type": "execute_result"
    }
   ],
   "source": [
    "function easyaver(array, x) #x will be initialsummingindex, deltay=samplesize\n",
    "    xl=size(array, 2)-x+1;\n",
    "    yl=size(array, 1);\n",
    "    sizen=xl*yl;\n",
    "    sum=0;\n",
    "    for i=1:yl\n",
    "        for j=x:size(array, 2)\n",
    "            sum+=array[i, j]\n",
    "        end\n",
    "    end\n",
    "    \n",
    "    return sum/sizen\n",
    "end"
   ]
  },
  {
   "cell_type": "code",
   "execution_count": 35,
   "metadata": {},
   "outputs": [],
   "source": [
    "#tableN=[300, 600, 700, 800, 900, 1250]\n",
    "#tableN=[200, 400, 500, 750, 1000, 1500]#, 2000];\n",
    "tableN=[200, 300, 400, 500, 600, 700, 800, 900, 1000]#, 1250, 1500];\n",
    "#tableN=[700, 800, 900, 1000]\n",
    "#tableN=[200, 500, 1000]\n",
    "#tableN=[200, 400, 600, 800, 1000];\n",
    "tablescsi=[500, 1000, 1500, 2000, 2500, 10000];\n",
    "#tablescsi=[10000];"
   ]
  },
  {
   "cell_type": "code",
   "execution_count": 36,
   "metadata": {},
   "outputs": [],
   "source": [
    "samplesize=30;"
   ]
  },
  {
   "cell_type": "code",
   "execution_count": 37,
   "metadata": {},
   "outputs": [],
   "source": [
    "#scanv=collect(0:0.025:0.1)\n",
    "#scanv=collect(0:0.005:0.1);\n",
    "scanv1=collect(0:0.01:0.1)\n",
    "scanv2=collect(0.12:0.02:0.7)\n",
    "#scanv=collect(0.15:0.005:0.2);\n",
    "tarray=collect(0:0.1:200);"
   ]
  },
  {
   "cell_type": "code",
   "execution_count": 38,
   "metadata": {},
   "outputs": [],
   "source": [
    "scanv=vcat(scanv1, scanv2);"
   ]
  },
  {
   "cell_type": "code",
   "execution_count": 25,
   "metadata": {},
   "outputs": [],
   "source": [
    "#samplesize=\n",
    "#scanv=[0.01, 0.05];"
   ]
  },
  {
   "cell_type": "code",
   "execution_count": 34,
   "metadata": {},
   "outputs": [
    {
     "data": {
      "text/plain": [
       "5"
      ]
     },
     "execution_count": 34,
     "metadata": {},
     "output_type": "execute_result"
    }
   ],
   "source": [
    "Threads.nthreads()"
   ]
  },
  {
   "cell_type": "code",
   "execution_count": 35,
   "metadata": {},
   "outputs": [
    {
     "data": {
      "text/plain": [
       "30"
      ]
     },
     "execution_count": 35,
     "metadata": {},
     "output_type": "execute_result"
    }
   ],
   "source": [
    "samplesize"
   ]
  },
  {
   "cell_type": "code",
   "execution_count": 37,
   "metadata": {},
   "outputs": [],
   "source": [
    "scanv;"
   ]
  },
  {
   "cell_type": "code",
   "execution_count": 38,
   "metadata": {},
   "outputs": [
    {
     "name": "stderr",
     "output_type": "stream",
     "text": [
      "\u001b[32mProgress: 100%|█████████████████████████████████████████| Time: 0:00:33\u001b[39m\n"
     ]
    }
   ],
   "source": [
    "using ProgressMeter\n",
    "prog=Progress(length(scanv))\n",
    "Threads.@threads for j in 1:length(scanv)\n",
    "    calcdata(20000, 50, scanv[j], samplesize)\n",
    "    next!(prog)\n",
    "end"
   ]
  },
  {
   "cell_type": "code",
   "execution_count": null,
   "metadata": {},
   "outputs": [],
   "source": [
    "a=Dates.Time(Dates.now())\n",
    "for i in 1:length(tablescsi)\n",
    "    for j in 1:length(scanv)\n",
    "    calcdata(tablescsi[i], scanv[j], samplesize)\n",
    "    end\n",
    "    println(\"Done with $(tableN[i])\")\n",
    "end\n",
    "b=Dates.Time(Dates.now())\n",
    "c=Dates.value(b-a)/(1000*1000*1000*60*60)\n",
    "println(\"start time=$a, end time=$b duration: $c\")"
   ]
  },
  {
   "cell_type": "code",
   "execution_count": null,
   "metadata": {},
   "outputs": [],
   "source": [
    "get_all_samplesizes()"
   ]
  },
  {
   "cell_type": "code",
   "execution_count": null,
   "metadata": {},
   "outputs": [],
   "source": [
    "#reading data from file and processing"
   ]
  },
  {
   "cell_type": "code",
   "execution_count": 40,
   "metadata": {},
   "outputs": [
    {
     "data": {
      "text/plain": [
       "get_samplesize (generic function with 1 method)"
      ]
     },
     "execution_count": 40,
     "metadata": {},
     "output_type": "execute_result"
    }
   ],
   "source": [
    "function get_samplesize(scalesize, σv)\n",
    "    ystart=readdlm(\"data_scsi$scalesize.sv$σv.txt\");\n",
    "    return size(ystart)[1]\n",
    "end"
   ]
  },
  {
   "cell_type": "code",
   "execution_count": 41,
   "metadata": {},
   "outputs": [
    {
     "data": {
      "text/plain": [
       "get_all_samplesizes (generic function with 1 method)"
      ]
     },
     "execution_count": 41,
     "metadata": {},
     "output_type": "execute_result"
    }
   ],
   "source": [
    "function get_all_samplesizes()\n",
    "for i in tablescsi\n",
    "    for j in scanv\n",
    "        a=get_samplesize(i, j)\n",
    "        println(\"samplesize=$a for $i scalesize and $j vel dist\")\n",
    "    end\n",
    "end\n",
    "return\n",
    "end"
   ]
  },
  {
   "cell_type": "code",
   "execution_count": 42,
   "metadata": {},
   "outputs": [
    {
     "name": "stdout",
     "output_type": "stream",
     "text": [
      "samplesize=30 for 500 scalesize and 0.0 vel dist\n",
      "samplesize=30 for 500 scalesize and 0.01 vel dist\n",
      "samplesize=30 for 500 scalesize and 0.02 vel dist\n",
      "samplesize=30 for 500 scalesize and 0.03 vel dist\n",
      "samplesize=30 for 500 scalesize and 0.04 vel dist\n",
      "samplesize=30 for 500 scalesize and 0.05 vel dist\n",
      "samplesize=30 for 500 scalesize and 0.06 vel dist\n",
      "samplesize=30 for 500 scalesize and 0.07 vel dist\n",
      "samplesize=30 for 500 scalesize and 0.08 vel dist\n",
      "samplesize=30 for 500 scalesize and 0.09 vel dist\n",
      "samplesize=30 for 500 scalesize and 0.1 vel dist\n",
      "samplesize=30 for 500 scalesize and 0.12 vel dist\n",
      "samplesize=30 for 500 scalesize and 0.14 vel dist\n",
      "samplesize=30 for 500 scalesize and 0.16 vel dist\n",
      "samplesize=30 for 500 scalesize and 0.18 vel dist\n",
      "samplesize=30 for 500 scalesize and 0.2 vel dist\n",
      "samplesize=30 for 500 scalesize and 0.22 vel dist\n",
      "samplesize=30 for 500 scalesize and 0.24 vel dist\n",
      "samplesize=30 for 500 scalesize and 0.26 vel dist\n",
      "samplesize=30 for 500 scalesize and 0.28 vel dist\n",
      "samplesize=30 for 500 scalesize and 0.3 vel dist\n",
      "samplesize=30 for 500 scalesize and 0.32 vel dist\n",
      "samplesize=30 for 500 scalesize and 0.34 vel dist\n",
      "samplesize=30 for 500 scalesize and 0.36 vel dist\n",
      "samplesize=30 for 500 scalesize and 0.38 vel dist\n",
      "samplesize=30 for 500 scalesize and 0.4 vel dist\n",
      "samplesize=30 for 500 scalesize and 0.42 vel dist\n",
      "samplesize=30 for 500 scalesize and 0.44 vel dist\n",
      "samplesize=30 for 500 scalesize and 0.46 vel dist\n",
      "samplesize=30 for 500 scalesize and 0.48 vel dist\n",
      "samplesize=30 for 500 scalesize and 0.5 vel dist\n",
      "samplesize=30 for 500 scalesize and 0.52 vel dist\n",
      "samplesize=30 for 500 scalesize and 0.54 vel dist\n",
      "samplesize=30 for 500 scalesize and 0.56 vel dist\n",
      "samplesize=30 for 500 scalesize and 0.58 vel dist\n",
      "samplesize=30 for 500 scalesize and 0.6 vel dist\n",
      "samplesize=30 for 500 scalesize and 0.62 vel dist\n",
      "samplesize=30 for 500 scalesize and 0.64 vel dist\n",
      "samplesize=30 for 500 scalesize and 0.66 vel dist\n",
      "samplesize=30 for 500 scalesize and 0.68 vel dist\n",
      "samplesize=30 for 500 scalesize and 0.7 vel dist\n",
      "samplesize=30 for 1000 scalesize and 0.0 vel dist\n",
      "samplesize=30 for 1000 scalesize and 0.01 vel dist\n",
      "samplesize=30 for 1000 scalesize and 0.02 vel dist\n",
      "samplesize=30 for 1000 scalesize and 0.03 vel dist\n",
      "samplesize=30 for 1000 scalesize and 0.04 vel dist\n",
      "samplesize=30 for 1000 scalesize and 0.05 vel dist\n",
      "samplesize=30 for 1000 scalesize and 0.06 vel dist\n",
      "samplesize=30 for 1000 scalesize and 0.07 vel dist\n",
      "samplesize=30 for 1000 scalesize and 0.08 vel dist\n",
      "samplesize=30 for 1000 scalesize and 0.09 vel dist\n",
      "samplesize=30 for 1000 scalesize and 0.1 vel dist\n",
      "samplesize=30 for 1000 scalesize and 0.12 vel dist\n",
      "samplesize=30 for 1000 scalesize and 0.14 vel dist\n",
      "samplesize=30 for 1000 scalesize and 0.16 vel dist\n",
      "samplesize=30 for 1000 scalesize and 0.18 vel dist\n",
      "samplesize=30 for 1000 scalesize and 0.2 vel dist\n",
      "samplesize=30 for 1000 scalesize and 0.22 vel dist\n",
      "samplesize=30 for 1000 scalesize and 0.24 vel dist\n",
      "samplesize=30 for 1000 scalesize and 0.26 vel dist\n",
      "samplesize=30 for 1000 scalesize and 0.28 vel dist\n",
      "samplesize=30 for 1000 scalesize and 0.3 vel dist\n",
      "samplesize=30 for 1000 scalesize and 0.32 vel dist\n",
      "samplesize=30 for 1000 scalesize and 0.34 vel dist\n",
      "samplesize=30 for 1000 scalesize and 0.36 vel dist\n",
      "samplesize=30 for 1000 scalesize and 0.38 vel dist\n",
      "samplesize=30 for 1000 scalesize and 0.4 vel dist\n",
      "samplesize=30 for 1000 scalesize and 0.42 vel dist\n",
      "samplesize=30 for 1000 scalesize and 0.44 vel dist\n",
      "samplesize=30 for 1000 scalesize and 0.46 vel dist\n",
      "samplesize=30 for 1000 scalesize and 0.48 vel dist\n",
      "samplesize=30 for 1000 scalesize and 0.5 vel dist\n",
      "samplesize=30 for 1000 scalesize and 0.52 vel dist\n",
      "samplesize=30 for 1000 scalesize and 0.54 vel dist\n",
      "samplesize=30 for 1000 scalesize and 0.56 vel dist\n",
      "samplesize=30 for 1000 scalesize and 0.58 vel dist\n",
      "samplesize=30 for 1000 scalesize and 0.6 vel dist\n",
      "samplesize=30 for 1000 scalesize and 0.62 vel dist\n",
      "samplesize=30 for 1000 scalesize and 0.64 vel dist\n",
      "samplesize=30 for 1000 scalesize and 0.66 vel dist\n",
      "samplesize=30 for 1000 scalesize and 0.68 vel dist\n",
      "samplesize=30 for 1000 scalesize and 0.7 vel dist\n",
      "samplesize=30 for 1500 scalesize and 0.0 vel dist\n",
      "samplesize=30 for 1500 scalesize and 0.01 vel dist\n",
      "samplesize=30 for 1500 scalesize and 0.02 vel dist\n",
      "samplesize=30 for 1500 scalesize and 0.03 vel dist\n",
      "samplesize=30 for 1500 scalesize and 0.04 vel dist\n",
      "samplesize=30 for 1500 scalesize and 0.05 vel dist\n",
      "samplesize=30 for 1500 scalesize and 0.06 vel dist\n",
      "samplesize=30 for 1500 scalesize and 0.07 vel dist\n",
      "samplesize=30 for 1500 scalesize and 0.08 vel dist\n",
      "samplesize=30 for 1500 scalesize and 0.09 vel dist\n",
      "samplesize=30 for 1500 scalesize and 0.1 vel dist\n",
      "samplesize=30 for 1500 scalesize and 0.12 vel dist\n",
      "samplesize=30 for 1500 scalesize and 0.14 vel dist\n",
      "samplesize=30 for 1500 scalesize and 0.16 vel dist\n",
      "samplesize=30 for 1500 scalesize and 0.18 vel dist\n",
      "samplesize=30 for 1500 scalesize and 0.2 vel dist\n",
      "samplesize=30 for 1500 scalesize and 0.22 vel dist\n",
      "samplesize=30 for 1500 scalesize and 0.24 vel dist\n",
      "samplesize=30 for 1500 scalesize and 0.26 vel dist\n",
      "samplesize=30 for 1500 scalesize and 0.28 vel dist\n",
      "samplesize=30 for 1500 scalesize and 0.3 vel dist\n",
      "samplesize=30 for 1500 scalesize and 0.32 vel dist\n",
      "samplesize=30 for 1500 scalesize and 0.34 vel dist\n",
      "samplesize=30 for 1500 scalesize and 0.36 vel dist\n",
      "samplesize=30 for 1500 scalesize and 0.38 vel dist\n",
      "samplesize=30 for 1500 scalesize and 0.4 vel dist\n",
      "samplesize=30 for 1500 scalesize and 0.42 vel dist\n",
      "samplesize=30 for 1500 scalesize and 0.44 vel dist\n",
      "samplesize=30 for 1500 scalesize and 0.46 vel dist\n",
      "samplesize=30 for 1500 scalesize and 0.48 vel dist\n",
      "samplesize=30 for 1500 scalesize and 0.5 vel dist\n",
      "samplesize=30 for 1500 scalesize and 0.52 vel dist\n",
      "samplesize=30 for 1500 scalesize and 0.54 vel dist\n",
      "samplesize=30 for 1500 scalesize and 0.56 vel dist\n",
      "samplesize=30 for 1500 scalesize and 0.58 vel dist\n",
      "samplesize=30 for 1500 scalesize and 0.6 vel dist\n",
      "samplesize=30 for 1500 scalesize and 0.62 vel dist\n",
      "samplesize=30 for 1500 scalesize and 0.64 vel dist\n",
      "samplesize=30 for 1500 scalesize and 0.66 vel dist\n",
      "samplesize=30 for 1500 scalesize and 0.68 vel dist\n",
      "samplesize=30 for 1500 scalesize and 0.7 vel dist\n",
      "samplesize=30 for 2000 scalesize and 0.0 vel dist\n",
      "samplesize=30 for 2000 scalesize and 0.01 vel dist\n",
      "samplesize=30 for 2000 scalesize and 0.02 vel dist\n",
      "samplesize=30 for 2000 scalesize and 0.03 vel dist\n",
      "samplesize=30 for 2000 scalesize and 0.04 vel dist\n",
      "samplesize=30 for 2000 scalesize and 0.05 vel dist\n",
      "samplesize=30 for 2000 scalesize and 0.06 vel dist\n",
      "samplesize=30 for 2000 scalesize and 0.07 vel dist\n",
      "samplesize=30 for 2000 scalesize and 0.08 vel dist\n",
      "samplesize=30 for 2000 scalesize and 0.09 vel dist\n",
      "samplesize=30 for 2000 scalesize and 0.1 vel dist\n",
      "samplesize=30 for 2000 scalesize and 0.12 vel dist\n",
      "samplesize=30 for 2000 scalesize and 0.14 vel dist\n",
      "samplesize=30 for 2000 scalesize and 0.16 vel dist\n",
      "samplesize=30 for 2000 scalesize and 0.18 vel dist\n",
      "samplesize=30 for 2000 scalesize and 0.2 vel dist\n",
      "samplesize=30 for 2000 scalesize and 0.22 vel dist\n",
      "samplesize=30 for 2000 scalesize and 0.24 vel dist\n",
      "samplesize=30 for 2000 scalesize and 0.26 vel dist\n",
      "samplesize=30 for 2000 scalesize and 0.28 vel dist\n",
      "samplesize=30 for 2000 scalesize and 0.3 vel dist\n",
      "samplesize=30 for 2000 scalesize and 0.32 vel dist\n",
      "samplesize=30 for 2000 scalesize and 0.34 vel dist\n",
      "samplesize=30 for 2000 scalesize and 0.36 vel dist\n",
      "samplesize=30 for 2000 scalesize and 0.38 vel dist\n",
      "samplesize=30 for 2000 scalesize and 0.4 vel dist\n",
      "samplesize=30 for 2000 scalesize and 0.42 vel dist\n",
      "samplesize=30 for 2000 scalesize and 0.44 vel dist\n",
      "samplesize=30 for 2000 scalesize and 0.46 vel dist\n",
      "samplesize=30 for 2000 scalesize and 0.48 vel dist\n",
      "samplesize=30 for 2000 scalesize and 0.5 vel dist\n",
      "samplesize=30 for 2000 scalesize and 0.52 vel dist\n",
      "samplesize=30 for 2000 scalesize and 0.54 vel dist\n",
      "samplesize=30 for 2000 scalesize and 0.56 vel dist\n",
      "samplesize=30 for 2000 scalesize and 0.58 vel dist\n",
      "samplesize=30 for 2000 scalesize and 0.6 vel dist\n",
      "samplesize=30 for 2000 scalesize and 0.62 vel dist\n",
      "samplesize=30 for 2000 scalesize and 0.64 vel dist\n",
      "samplesize=30 for 2000 scalesize and 0.66 vel dist\n",
      "samplesize=30 for 2000 scalesize and 0.68 vel dist\n",
      "samplesize=30 for 2000 scalesize and 0.7 vel dist\n",
      "samplesize=50 for 2500 scalesize and 0.0 vel dist\n"
     ]
    },
    {
     "name": "stdout",
     "output_type": "stream",
     "text": [
      "samplesize=50 for 2500 scalesize and 0.01 vel dist\n",
      "samplesize=50 for 2500 scalesize and 0.02 vel dist\n",
      "samplesize=50 for 2500 scalesize and 0.03 vel dist\n",
      "samplesize=50 for 2500 scalesize and 0.04 vel dist\n",
      "samplesize=50 for 2500 scalesize and 0.05 vel dist\n",
      "samplesize=50 for 2500 scalesize and 0.06 vel dist\n",
      "samplesize=50 for 2500 scalesize and 0.07 vel dist\n",
      "samplesize=50 for 2500 scalesize and 0.08 vel dist\n",
      "samplesize=50 for 2500 scalesize and 0.09 vel dist\n",
      "samplesize=50 for 2500 scalesize and 0.1 vel dist\n",
      "samplesize=50 for 2500 scalesize and 0.12 vel dist\n",
      "samplesize=50 for 2500 scalesize and 0.14 vel dist\n",
      "samplesize=50 for 2500 scalesize and 0.16 vel dist\n",
      "samplesize=50 for 2500 scalesize and 0.18 vel dist\n",
      "samplesize=50 for 2500 scalesize and 0.2 vel dist\n",
      "samplesize=50 for 2500 scalesize and 0.22 vel dist\n",
      "samplesize=50 for 2500 scalesize and 0.24 vel dist\n",
      "samplesize=50 for 2500 scalesize and 0.26 vel dist\n",
      "samplesize=50 for 2500 scalesize and 0.28 vel dist\n",
      "samplesize=50 for 2500 scalesize and 0.3 vel dist\n",
      "samplesize=50 for 2500 scalesize and 0.32 vel dist\n",
      "samplesize=50 for 2500 scalesize and 0.34 vel dist\n",
      "samplesize=50 for 2500 scalesize and 0.36 vel dist\n",
      "samplesize=50 for 2500 scalesize and 0.38 vel dist\n",
      "samplesize=50 for 2500 scalesize and 0.4 vel dist\n",
      "samplesize=50 for 2500 scalesize and 0.42 vel dist\n",
      "samplesize=50 for 2500 scalesize and 0.44 vel dist\n",
      "samplesize=50 for 2500 scalesize and 0.46 vel dist\n",
      "samplesize=50 for 2500 scalesize and 0.48 vel dist\n",
      "samplesize=50 for 2500 scalesize and 0.5 vel dist\n",
      "samplesize=50 for 2500 scalesize and 0.52 vel dist\n",
      "samplesize=50 for 2500 scalesize and 0.54 vel dist\n",
      "samplesize=50 for 2500 scalesize and 0.56 vel dist\n",
      "samplesize=50 for 2500 scalesize and 0.58 vel dist\n",
      "samplesize=50 for 2500 scalesize and 0.6 vel dist\n",
      "samplesize=50 for 2500 scalesize and 0.62 vel dist\n",
      "samplesize=50 for 2500 scalesize and 0.64 vel dist\n",
      "samplesize=50 for 2500 scalesize and 0.66 vel dist\n",
      "samplesize=50 for 2500 scalesize and 0.68 vel dist\n",
      "samplesize=50 for 2500 scalesize and 0.7 vel dist\n",
      "samplesize=30 for 10000 scalesize and 0.0 vel dist\n",
      "samplesize=30 for 10000 scalesize and 0.01 vel dist\n",
      "samplesize=30 for 10000 scalesize and 0.02 vel dist\n",
      "samplesize=30 for 10000 scalesize and 0.03 vel dist\n",
      "samplesize=30 for 10000 scalesize and 0.04 vel dist\n",
      "samplesize=30 for 10000 scalesize and 0.05 vel dist\n",
      "samplesize=30 for 10000 scalesize and 0.06 vel dist\n",
      "samplesize=30 for 10000 scalesize and 0.07 vel dist\n",
      "samplesize=30 for 10000 scalesize and 0.08 vel dist\n",
      "samplesize=30 for 10000 scalesize and 0.09 vel dist\n",
      "samplesize=30 for 10000 scalesize and 0.1 vel dist\n",
      "samplesize=30 for 10000 scalesize and 0.12 vel dist\n",
      "samplesize=30 for 10000 scalesize and 0.14 vel dist\n",
      "samplesize=30 for 10000 scalesize and 0.16 vel dist\n",
      "samplesize=30 for 10000 scalesize and 0.18 vel dist\n",
      "samplesize=30 for 10000 scalesize and 0.2 vel dist\n",
      "samplesize=30 for 10000 scalesize and 0.22 vel dist\n",
      "samplesize=30 for 10000 scalesize and 0.24 vel dist\n",
      "samplesize=30 for 10000 scalesize and 0.26 vel dist\n",
      "samplesize=30 for 10000 scalesize and 0.28 vel dist\n",
      "samplesize=30 for 10000 scalesize and 0.3 vel dist\n",
      "samplesize=30 for 10000 scalesize and 0.32 vel dist\n",
      "samplesize=30 for 10000 scalesize and 0.34 vel dist\n",
      "samplesize=30 for 10000 scalesize and 0.36 vel dist\n",
      "samplesize=30 for 10000 scalesize and 0.38 vel dist\n",
      "samplesize=30 for 10000 scalesize and 0.4 vel dist\n",
      "samplesize=30 for 10000 scalesize and 0.42 vel dist\n",
      "samplesize=30 for 10000 scalesize and 0.44 vel dist\n",
      "samplesize=30 for 10000 scalesize and 0.46 vel dist\n",
      "samplesize=30 for 10000 scalesize and 0.48 vel dist\n",
      "samplesize=30 for 10000 scalesize and 0.5 vel dist\n",
      "samplesize=30 for 10000 scalesize and 0.52 vel dist\n",
      "samplesize=30 for 10000 scalesize and 0.54 vel dist\n",
      "samplesize=30 for 10000 scalesize and 0.56 vel dist\n",
      "samplesize=30 for 10000 scalesize and 0.58 vel dist\n",
      "samplesize=30 for 10000 scalesize and 0.6 vel dist\n",
      "samplesize=30 for 10000 scalesize and 0.62 vel dist\n",
      "samplesize=30 for 10000 scalesize and 0.64 vel dist\n",
      "samplesize=30 for 10000 scalesize and 0.66 vel dist\n",
      "samplesize=30 for 10000 scalesize and 0.68 vel dist\n",
      "samplesize=30 for 10000 scalesize and 0.7 vel dist\n"
     ]
    }
   ],
   "source": [
    "get_all_samplesizes()"
   ]
  },
  {
   "cell_type": "code",
   "execution_count": 43,
   "metadata": {},
   "outputs": [
    {
     "data": {
      "text/plain": [
       "med_readout_te (generic function with 1 method)"
      ]
     },
     "execution_count": 43,
     "metadata": {},
     "output_type": "execute_result"
    }
   ],
   "source": [
    "function med_readout_te(Natoms, σv)\n",
    "ystart=readdlm(\"data_N$Natoms.sv$σv.txt\");\n",
    "yfin=zeros(size(ystart)[1], size(ystart)[2]-ini+1)\n",
    "ini=1000\n",
    "for i=1:size(ystart)[1]\n",
    "    for j=ini:size(ystart)[2]\n",
    "        yfin[i, j-ini+1]=ystart[i, j]\n",
    "    end\n",
    "end\n",
    "\n",
    "return median(yfin)\n",
    "end"
   ]
  },
  {
   "cell_type": "code",
   "execution_count": 19,
   "metadata": {},
   "outputs": [
    {
     "data": {
      "text/plain": [
       "readout_te (generic function with 1 method)"
      ]
     },
     "execution_count": 19,
     "metadata": {},
     "output_type": "execute_result"
    }
   ],
   "source": [
    "function readout_te(scalesize, σv)\n",
    " yprob=readdlm(\"data_scsi$scalesize.sv$σv.txt\");\n",
    " \n",
    " te=sum(yprob, dims=1) \n",
    "return transpose(te)/size(yprob, 1)\n",
    "end"
   ]
  },
  {
   "cell_type": "code",
   "execution_count": 20,
   "metadata": {
    "scrolled": true
   },
   "outputs": [
    {
     "data": {
      "text/plain": [
       "readout_te_ex (generic function with 1 method)"
      ]
     },
     "execution_count": 20,
     "metadata": {},
     "output_type": "execute_result"
    }
   ],
   "source": [
    "function readout_te_ex(Natoms, σv, ex)\n",
    " yprob=readdlm(\"data_N$Natoms.sv$σv.txt\");\n",
    " \n",
    " te=yprob[ex, :] \n",
    "return te\n",
    "end"
   ]
  },
  {
   "cell_type": "code",
   "execution_count": 21,
   "metadata": {},
   "outputs": [
    {
     "data": {
      "text/plain": [
       "readout_av (generic function with 1 method)"
      ]
     },
     "execution_count": 21,
     "metadata": {},
     "output_type": "execute_result"
    }
   ],
   "source": [
    "function readout_av(scalesize, σv)\n",
    "    yprob=readout_te(scalesize, σv)\n",
    "    sum=0;\n",
    "    start=1000;\n",
    "    size=length(yprob)-start+1;\n",
    "    for i=start:length(yprob)\n",
    "        sum+=yprob[i]\n",
    "    end\n",
    "    \n",
    "    return sum/size\n",
    "end "
   ]
  },
  {
   "cell_type": "code",
   "execution_count": 22,
   "metadata": {},
   "outputs": [
    {
     "data": {
      "text/plain": [
       "med_readout_av (generic function with 1 method)"
      ]
     },
     "execution_count": 22,
     "metadata": {},
     "output_type": "execute_result"
    }
   ],
   "source": [
    "function med_readout_av(Natoms, σv)\n",
    "    yprob=readout_te(Natoms, σv)\n",
    "    sum=0;\n",
    "    start=1000;\n",
    "    size=length(yprob)-start+1;\n",
    "    yrare=zeros(size)\n",
    "    for i=start:length(yprob)\n",
    "        yrare[i-(start-1)]=yprob[i]\n",
    "    end\n",
    "    a=median(yrare)\n",
    "    return a \n",
    "end "
   ]
  },
  {
   "cell_type": "code",
   "execution_count": 23,
   "metadata": {},
   "outputs": [
    {
     "data": {
      "text/plain": [
       "readout_graph (generic function with 1 method)"
      ]
     },
     "execution_count": 23,
     "metadata": {},
     "output_type": "execute_result"
    }
   ],
   "source": [
    "function readout_graph(scalesize) #plots the average photon number at N over σv\n",
    "    graph=zeros(length(scanv))\n",
    "    graph=readout_av.(scalesize, scanv)\n",
    "    \n",
    "#plot(scanv, graph, label=\"$scalesize clustersize\") #missing: graph/Natoms /graph[1]\n",
    "return graph \n",
    "end "
   ]
  },
  {
   "cell_type": "code",
   "execution_count": 24,
   "metadata": {},
   "outputs": [
    {
     "data": {
      "text/plain": [
       "med_readout_graph (generic function with 1 method)"
      ]
     },
     "execution_count": 24,
     "metadata": {},
     "output_type": "execute_result"
    }
   ],
   "source": [
    "function med_readout_graph(Natoms) #reads out the median photon number dep on N and σv\n",
    "    graph=zeros(length(scanv))\n",
    "    graph=median_readout_prob.(Natoms, scanv)\n",
    "    \n",
    "plot(scanv, graph/Natoms, label=\"$Natoms atom species\")\n",
    "return graph/Natoms\n",
    "end "
   ]
  },
  {
   "cell_type": "code",
   "execution_count": null,
   "metadata": {},
   "outputs": [],
   "source": [
    "readout_graph(200),# label=\"average\" \n",
    "title(\"comparison of median and average for N=200 atoms\")\n",
    "med_readout_graph(200);\n",
    "xlabel(\"σv\")\n",
    "ylabel(\"photons per atom\")\n",
    "grid()\n",
    "#blue= average\n",
    "#orange= median"
   ]
  },
  {
   "cell_type": "code",
   "execution_count": 50,
   "metadata": {},
   "outputs": [
    {
     "data": {
      "text/plain": [
       "readout_root (generic function with 1 method)"
      ]
     },
     "execution_count": 50,
     "metadata": {},
     "output_type": "execute_result"
    }
   ],
   "source": [
    "function readout_root(scalesize)\n",
    "    graph=zeros(length(scanv))\n",
    "    graph=readout_av.(scalesize, scanv)\n",
    "    \n",
    "    r=findroot(scanv, graph/graph[1], 0.5) #missing: graph/Natoms, limit 0.001\n",
    "    return r\n",
    "end"
   ]
  },
  {
   "cell_type": "code",
   "execution_count": 51,
   "metadata": {},
   "outputs": [
    {
     "data": {
      "text/plain": [
       "med_readout_root (generic function with 1 method)"
      ]
     },
     "execution_count": 51,
     "metadata": {},
     "output_type": "execute_result"
    }
   ],
   "source": [
    "function med_readout_root(Natoms)\n",
    "    graph=zeros(length(scanv))\n",
    "    graph=median_readout_prob.(Natoms, scanv)\n",
    "    \n",
    "    r=findroot(scanv, graph, 1) #missing:graph/Natoms, limit 0.001\n",
    "    return r \n",
    "end"
   ]
  },
  {
   "cell_type": "code",
   "execution_count": 52,
   "metadata": {},
   "outputs": [
    {
     "data": {
      "text/plain": [
       "median_readout_prob (generic function with 1 method)"
      ]
     },
     "execution_count": 52,
     "metadata": {},
     "output_type": "execute_result"
    }
   ],
   "source": [
    "function median_readout_prob(Natoms, σv)\n",
    "    ystart=readdlm(\"data_N$Natoms.sv$σv.txt\");\n",
    "    ini=1000\n",
    "    yfin=zeros(size(ystart)[1], size(ystart)[2]-ini+1)\n",
    "    \n",
    "    for i=1:size(ystart)[1]\n",
    "        for j=ini:size(ystart)[2]\n",
    "            yfin[i, j-ini+1]=ystart[i, j]\n",
    "        end\n",
    "    end\n",
    "    \n",
    "    return median(yfin)\n",
    "end"
   ]
  },
  {
   "cell_type": "code",
   "execution_count": 53,
   "metadata": {},
   "outputs": [
    {
     "data": {
      "text/plain": [
       "readout_prob (generic function with 1 method)"
      ]
     },
     "execution_count": 53,
     "metadata": {},
     "output_type": "execute_result"
    }
   ],
   "source": [
    "function readout_prob(Natoms, σv)\n",
    "\n",
    "    ystart=readdlm(\"data_N$Natoms.sv$σv.txt\")\n",
    "    ini=1000    \n",
    "    yfin=zeros(size(ystart)[1], size(ystart)[2]-ini+1)\n",
    "\n",
    "    for i=1:size(ystart)[1]\n",
    "        for j=ini:size(ystart)[2]\n",
    "            yfin[i, j-ini+1]=ystart[i, j]\n",
    "        end\n",
    "    end\n",
    "    \n",
    "    test=zeros(size(yfin)[1])\n",
    "    test=[sum(yfin[i, :])/size(yfin)[2] for i=1:size(yfin)[1]]\n",
    "    count=0\n",
    "    \n",
    "    for i=1:size(yfin)[1]\n",
    "        if test[i]>Natoms/1000\n",
    "            count+=1\n",
    "        end\n",
    "    end\n",
    "    return count/size(yfin)[1]\n",
    "end"
   ]
  },
  {
   "cell_type": "code",
   "execution_count": null,
   "metadata": {},
   "outputs": [],
   "source": [
    "zs=[readout_prob(x, y) for y in scanv, x in tableN]\n",
    "contour(tableN, scanv, zs)\n",
    "contourf(tableN, scanv, zs)\n",
    "title(\"probability of achieving threshold\")\n",
    "colorbar()\n",
    "xlabel(\"Number of Atoms\")\n",
    "ylabel(\"σv\")"
   ]
  },
  {
   "cell_type": "code",
   "execution_count": null,
   "metadata": {},
   "outputs": [],
   "source": [
    "pygui(true)"
   ]
  },
  {
   "cell_type": "code",
   "execution_count": null,
   "metadata": {},
   "outputs": [],
   "source": [
    "#plot(tableN, med_readout_root.(tableN), label=\"median\")\n",
    "scatter(tablescsi, readout_root.(tablescsi), color=\"r\", label=\"average\")\n",
    "#title(\"σv-cutoff for various atom numbers\")\n",
    "title(L\"$γ=10^{-8}, Δ=0, g=2,74 \\cdot 10^{-3}, ν=0.5, κ=1$\")\n",
    "#legend()\n",
    "ylabel(\"σv-half-maximum\")\n",
    "xlabel(\"clustersize\")\n",
    "grid()"
   ]
  },
  {
   "cell_type": "code",
   "execution_count": null,
   "metadata": {},
   "outputs": [],
   "source": [
    "pygui(true)\n",
    "figure(1)\n",
    "plot(2*tarray, result4, label=\"1000 clustersize, σv=0.05\")\n",
    "#plot(tarray, result5, label=\"2500 clustersize, σv=0.05\")\n",
    "plot(2*tarray, result6, label=\"5000 clustersize, σv=0.05\")\n",
    "plot(2*tarray, result11, label=\"20000 clustersize, σv=0.05\")\n",
    "plot(2*tarray, result1, label=\"1000 clustersize, σv=0.2\")\n",
    "#plot(tarray, result2, label=\"2500 clustersize, σv=0.2\")\n",
    "plot(2*tarray, result3, label=\"5000 clustersize, σv=0.2\")\n",
    "plot(2*tarray, result12, label=\"20000 clustersize, σv=0.2\")\n",
    "#plot(tarray, result12, label=\"10000 clustersize, σv=0.5\")\n",
    "\n",
    "#vlines(100, 0, 280000, color=\"r\", linestyle=\"dotted\")\n",
    "title(\"Total number of atoms: 10^6\")\n",
    "xlabel(\"time\")\n",
    "ylabel(\"photon number\")\n",
    "#title(\"1000_atoms\")\n",
    "grid()\n",
    "legend()"
   ]
  },
  {
   "cell_type": "code",
   "execution_count": 54,
   "metadata": {},
   "outputs": [],
   "source": [
    "yval=[0.5 for i in tableN];"
   ]
  },
  {
   "cell_type": "code",
   "execution_count": null,
   "metadata": {},
   "outputs": [],
   "source": [
    "###############################################################################################################\n",
    "# (3b) plots "
   ]
  },
  {
   "cell_type": "code",
   "execution_count": 42,
   "metadata": {},
   "outputs": [],
   "source": [
    "test=readout_graph(20000);"
   ]
  },
  {
   "cell_type": "code",
   "execution_count": 55,
   "metadata": {},
   "outputs": [
    {
     "data": {
      "text/plain": [
       "176581"
      ]
     },
     "execution_count": 55,
     "metadata": {},
     "output_type": "execute_result"
    }
   ],
   "source": [
    "test[1]=176581"
   ]
  },
  {
   "cell_type": "code",
   "execution_count": 59,
   "metadata": {
    "scrolled": true
   },
   "outputs": [],
   "source": [
    "pygui(true)\n",
    "figure(2)\n",
    "scale=1000;\n",
    "plot(0.5*scanv, Nreadout_graph(1000)/scale, label=\"1000 clusters\")\n",
    "plot(0.5*scanv, readout_graph(2500)/scale, label=\"400 clusters\")\n",
    "plot(0.5*scanv, readout_graph(5000)/scale, label=\"200 clusters\")\n",
    "plot(0.5*scanv, test/scale, label=\"50 clusters\")\n",
    "\n",
    "#title(L\"$γ=10^{-8}, Δ=0, g=1.36 \\cdot 10^{-3}, ν=0.5, κ=1$, Total atom number: $10^6$\")\n",
    "annotate(\"(b)\", xy=(0.01, 0.06), xycoords=\"axes fraction\")\n",
    "xlabel(L\"\\sigma_\\mathrm{v}/(\\lambda \\kappa)\")\n",
    "ylabel(L\"\\mathrm{photon\\; number}/10^3\")\n",
    "legend()\n",
    "grid()\n",
    "#save: clustersize2_up.pdf"
   ]
  },
  {
   "cell_type": "code",
   "execution_count": null,
   "metadata": {},
   "outputs": [],
   "source": [
    "###########################################################################################################"
   ]
  },
  {
   "cell_type": "code",
   "execution_count": 18,
   "metadata": {},
   "outputs": [
    {
     "data": {
      "text/plain": [
       "Nreadout_graph (generic function with 1 method)"
      ]
     },
     "execution_count": 18,
     "metadata": {},
     "output_type": "execute_result"
    }
   ],
   "source": [
    "function Nreadout_te(Natoms, σv)\n",
    " yprob=readdlm(\"data_N$Natoms.sv$σv.txt\");\n",
    " \n",
    " te=sum(yprob, dims=1) \n",
    "return transpose(te)/size(yprob, 1)\n",
    "end\n",
    "\n",
    "\n",
    "\n",
    "function Nreadout_av(Natoms, σv)\n",
    "    yprob=Nreadout_te(Natoms, σv)\n",
    "    sum=0;\n",
    "    start=1000;\n",
    "    size=length(yprob)-start+1;\n",
    "    for i=start:length(yprob)\n",
    "        sum+=yprob[i]\n",
    "    end\n",
    "    \n",
    "    return sum/size\n",
    "end \n",
    "\n",
    "\n",
    "function Nreadout_graph(Natoms) #plots the average photon number at N over σv\n",
    "    graph=zeros(length(scanv))\n",
    "    graph=Nreadout_av.(Natoms, scanv)\n",
    "    \n",
    "#plot(scanv, graph, label=\"1000 clustersize\") #missing: graph/Natoms /graph[1]\n",
    "return graph \n",
    "end "
   ]
  },
  {
   "cell_type": "code",
   "execution_count": null,
   "metadata": {},
   "outputs": [],
   "source": [
    "result_for_1000=Nreadout_graph(1000);"
   ]
  },
  {
   "cell_type": "code",
   "execution_count": null,
   "metadata": {},
   "outputs": [],
   "source": []
  }
 ],
 "metadata": {
  "kernelspec": {
   "display_name": "Julia 1.5.2",
   "language": "julia",
   "name": "julia-1.5"
  },
  "language_info": {
   "file_extension": ".jl",
   "mimetype": "application/julia",
   "name": "julia",
   "version": "1.5.2"
  }
 },
 "nbformat": 4,
 "nbformat_minor": 4
}
